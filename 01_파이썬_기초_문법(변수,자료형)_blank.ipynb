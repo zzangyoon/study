{
 "cells": [
  {
   "cell_type": "markdown",
   "metadata": {
    "id": "rykO60mofpWR"
   },
   "source": [
    "# 1. 변수"
   ]
  },
  {
   "cell_type": "code",
   "execution_count": 2,
   "metadata": {},
   "outputs": [
    {
     "name": "stdout",
     "output_type": "stream",
     "text": [
      "홍길동\n"
     ]
    }
   ],
   "source": [
    "name = \"홍길동\"\n",
    "age = 20\n",
    "item_count = 15\n",
    "\n",
    "print(name)"
   ]
  },
  {
   "cell_type": "code",
   "execution_count": 6,
   "metadata": {},
   "outputs": [
    {
     "name": "stdout",
     "output_type": "stream",
     "text": [
      "20\n"
     ]
    }
   ],
   "source": [
    "print(age)"
   ]
  },
  {
   "cell_type": "code",
   "execution_count": 4,
   "metadata": {},
   "outputs": [
    {
     "name": "stdout",
     "output_type": "stream",
     "text": [
      "홍길동 20 15\n"
     ]
    }
   ],
   "source": [
    "print(name, age, item_count)"
   ]
  },
  {
   "cell_type": "code",
   "execution_count": 1,
   "metadata": {},
   "outputs": [
    {
     "name": "stdout",
     "output_type": "stream",
     "text": [
      "seoul busan\n"
     ]
    }
   ],
   "source": [
    "city = \"seoul\"\n",
    "City = \"busan\"\n",
    "print(city, City)"
   ]
  },
  {
   "cell_type": "code",
   "execution_count": null,
   "metadata": {},
   "outputs": [
    {
     "ename": "SyntaxError",
     "evalue": "invalid decimal literal (1197166940.py, line 1)",
     "output_type": "error",
     "traceback": [
      "\u001b[1;36m  Cell \u001b[1;32mIn[9], line 1\u001b[1;36m\u001b[0m\n\u001b[1;33m    1city = 10\u001b[0m\n\u001b[1;37m    ^\u001b[0m\n\u001b[1;31mSyntaxError\u001b[0m\u001b[1;31m:\u001b[0m invalid decimal literal\n"
     ]
    }
   ],
   "source": [
    "# 1city = 10"
   ]
  },
  {
   "cell_type": "code",
   "execution_count": 12,
   "metadata": {},
   "outputs": [],
   "source": [
    "# c-ity = 11"
   ]
  },
  {
   "cell_type": "code",
   "execution_count": 2,
   "metadata": {},
   "outputs": [],
   "source": [
    "print = \"안녕\"\n",
    "# print(print)"
   ]
  },
  {
   "cell_type": "markdown",
   "metadata": {
    "id": "wUlzBbEmfpWT"
   },
   "source": [
    "# 3. 자료형"
   ]
  },
  {
   "cell_type": "markdown",
   "metadata": {
    "id": "msOAV5snfpWU"
   },
   "source": [
    "## 1) 숫자형"
   ]
  },
  {
   "cell_type": "markdown",
   "metadata": {
    "id": "VNzBbeEefpWU"
   },
   "source": [
    "### (1) 표현"
   ]
  },
  {
   "cell_type": "code",
   "execution_count": null,
   "metadata": {},
   "outputs": [
    {
     "name": "stdout",
     "output_type": "stream",
     "text": [
      "5 -1 0 10000000000000\n"
     ]
    }
   ],
   "source": [
    "# 정수\n",
    "x = 5\n",
    "y = -1\n",
    "z = 0\n",
    "money = 10_000_000_000_000\n",
    "\n",
    "print(x, y, z, money)"
   ]
  },
  {
   "cell_type": "code",
   "execution_count": 3,
   "metadata": {},
   "outputs": [
    {
     "name": "stdout",
     "output_type": "stream",
     "text": [
      "<class 'int'>\n",
      "<class 'int'>\n"
     ]
    }
   ],
   "source": [
    "print(type(x))\n",
    "print(type(money))"
   ]
  },
  {
   "cell_type": "code",
   "execution_count": 5,
   "metadata": {},
   "outputs": [
    {
     "name": "stdout",
     "output_type": "stream",
     "text": [
      "3.141 -2.5 1e-13\n"
     ]
    }
   ],
   "source": [
    "# 실수\n",
    "a = 3.141\n",
    "b = -2.5\n",
    "c = 0.0000000000001\n",
    "\n",
    "print(a, b, c)"
   ]
  },
  {
   "cell_type": "code",
   "execution_count": null,
   "metadata": {},
   "outputs": [
    {
     "name": "stdout",
     "output_type": "stream",
     "text": [
      "10000000000.0 3e-05\n"
     ]
    }
   ],
   "source": [
    "x = 1e+10\n",
    "y = 3e-5\n",
    "\n",
    "print(x, y)"
   ]
  },
  {
   "cell_type": "code",
   "execution_count": 7,
   "metadata": {},
   "outputs": [
    {
     "name": "stdout",
     "output_type": "stream",
     "text": [
      "<class 'float'>\n"
     ]
    }
   ],
   "source": [
    "print(type(x))"
   ]
  },
  {
   "cell_type": "code",
   "execution_count": 8,
   "metadata": {},
   "outputs": [
    {
     "name": "stdout",
     "output_type": "stream",
     "text": [
      "<class 'float'>\n"
     ]
    }
   ],
   "source": [
    "z = 1.0\n",
    "print(type(z))"
   ]
  },
  {
   "cell_type": "markdown",
   "metadata": {
    "id": "qArKs0K3fpWU"
   },
   "source": [
    "### (2) 산술/복합 연산"
   ]
  },
  {
   "cell_type": "code",
   "execution_count": null,
   "metadata": {},
   "outputs": [
    {
     "name": "stdout",
     "output_type": "stream",
     "text": [
      "13\n",
      "7\n",
      "30\n",
      "3.3333333333333335\n",
      "3\n",
      "1\n",
      "1000\n"
     ]
    }
   ],
   "source": [
    "num1= 10\n",
    "num2 = 3\n",
    "print(num1 + num2)\n",
    "print(num1 - num2)\n",
    "print(num1 * num2)\n",
    "print(num1 / num2)\n",
    "print(num1 // num2)\n",
    "print(num1 % num2)\n",
    "print(num1 ** num2)\n"
   ]
  },
  {
   "cell_type": "code",
   "execution_count": null,
   "metadata": {},
   "outputs": [
    {
     "name": "stdout",
     "output_type": "stream",
     "text": [
      "4.0\n",
      "<class 'float'>\n"
     ]
    }
   ],
   "source": [
    "num1 = 12\n",
    "num2 = 3\n",
    "num3 = num1 / num2\n",
    "\n",
    "print(num3)\n",
    "print(type(num3))"
   ]
  },
  {
   "cell_type": "code",
   "execution_count": 18,
   "metadata": {},
   "outputs": [
    {
     "name": "stdout",
     "output_type": "stream",
     "text": [
      "내 잔고 :  50000\n",
      "내 잔고 :  250000\n",
      "내 잔고 :  235000\n"
     ]
    }
   ],
   "source": [
    "money = 50000\n",
    "print(\"내 잔고 : \", money)\n",
    "money += 200000\n",
    "print(\"내 잔고 : \", money)\n",
    "money -= 15000\n",
    "print(\"내 잔고 : \", money)"
   ]
  },
  {
   "cell_type": "markdown",
   "metadata": {
    "id": "5zVloo50fpWU"
   },
   "source": [
    "### (3) 예제"
   ]
  },
  {
   "cell_type": "markdown",
   "metadata": {
    "id": "xRKpBRBKfpWU"
   },
   "source": [
    "반복할 횟수 구하기: 100개의 게시물을 한 페이지에 30개씩 보여주려면 총 몇 페이지가 필요할까요?"
   ]
  },
  {
   "cell_type": "code",
   "execution_count": null,
   "metadata": {
    "id": "tYff6S7DfpWV"
   },
   "outputs": [
    {
     "name": "stdout",
     "output_type": "stream",
     "text": [
      "3 10\n"
     ]
    }
   ],
   "source": [
    "# 100 / 30 = 몫 3 나머지 10\n",
    "# 나머지 10도 페이지로 표현할 수 있다.\n",
    "# 나머지가 있는 경우에는 몫에 1을 더해야 한다.\n",
    "\n",
    "posts = 100\n",
    "posts_per_page = 30\n",
    "pages = posts // posts_per_page\n",
    "remainder = posts % posts_per_page\n",
    "print(pages, remainder)\n",
    "\n",
    "# rotate = 100\n",
    "# rotate //= 30\n",
    "# print(rotate)"
   ]
  },
  {
   "cell_type": "markdown",
   "metadata": {
    "id": "6zj1iSwefpWV"
   },
   "source": [
    "출생년도가 1982일 때 홀수, 짝수 판단하기"
   ]
  },
  {
   "cell_type": "code",
   "execution_count": 21,
   "metadata": {
    "id": "A0Hb8prSfpWV"
   },
   "outputs": [
    {
     "name": "stdout",
     "output_type": "stream",
     "text": [
      "0\n"
     ]
    }
   ],
   "source": [
    "# 코드로 홀수/짝수 판단하는 방법 : 나머지가 1이면 홀수, 0이면 짝수\n",
    "# 나머지 연산자 : %\n",
    "\n",
    "birth = 1982\n",
    "result = birth % 2\n",
    "print(result)\n",
    "\n",
    "# birth %= 2\n",
    "# print(birth)"
   ]
  },
  {
   "cell_type": "markdown",
   "metadata": {
    "id": "BxNz_w8zfpWV"
   },
   "source": [
    "## 2) ⭐ 문자열"
   ]
  },
  {
   "cell_type": "markdown",
   "metadata": {
    "id": "g5c456kQfpWV"
   },
   "source": [
    "### (1) 표현"
   ]
  },
  {
   "cell_type": "code",
   "execution_count": 23,
   "metadata": {},
   "outputs": [
    {
     "name": "stdout",
     "output_type": "stream",
     "text": [
      "안녕하세요\n",
      "<class 'str'>\n"
     ]
    }
   ],
   "source": [
    "message = \"안녕하세요\"\n",
    "print(message)\n",
    "print(type(message))"
   ]
  },
  {
   "cell_type": "code",
   "execution_count": null,
   "metadata": {},
   "outputs": [
    {
     "ename": "SyntaxError",
     "evalue": "unterminated string literal (detected at line 2) (3671718703.py, line 2)",
     "output_type": "error",
     "traceback": [
      "\u001b[1;36m  Cell \u001b[1;32mIn[33], line 2\u001b[1;36m\u001b[0m\n\u001b[1;33m    message = 'I'm hungry'\u001b[0m\n\u001b[1;37m                         ^\u001b[0m\n\u001b[1;31mSyntaxError\u001b[0m\u001b[1;31m:\u001b[0m unterminated string literal (detected at line 2)\n"
     ]
    }
   ],
   "source": [
    "# I'm hungry\n",
    "# message = 'I'm hungry'\n",
    "# print(message)"
   ]
  },
  {
   "cell_type": "code",
   "execution_count": null,
   "metadata": {},
   "outputs": [
    {
     "name": "stdout",
     "output_type": "stream",
     "text": [
      "I'm hungry\n"
     ]
    }
   ],
   "source": [
    "message = 'I\\'m hungry'\n",
    "print(message)"
   ]
  },
  {
   "cell_type": "code",
   "execution_count": 30,
   "metadata": {},
   "outputs": [
    {
     "name": "stdout",
     "output_type": "stream",
     "text": [
      "I'm hungry\n"
     ]
    }
   ],
   "source": [
    "message = \"I'm hungry\"\n",
    "print(message)"
   ]
  },
  {
   "cell_type": "code",
   "execution_count": 31,
   "metadata": {},
   "outputs": [
    {
     "name": "stdout",
     "output_type": "stream",
     "text": [
      "\"철수가 말했습니다\"\n"
     ]
    }
   ],
   "source": [
    "# \"철수가 말했습니다\"\n",
    "message = '\"철수가 말했습니다\"'\n",
    "print(message)"
   ]
  },
  {
   "cell_type": "code",
   "execution_count": 32,
   "metadata": {},
   "outputs": [
    {
     "name": "stdout",
     "output_type": "stream",
     "text": [
      "\"철수가 말했습니다\"\n"
     ]
    }
   ],
   "source": [
    "# \"철수가 말했습니다\"\n",
    "message = \"\\\"철수가 말했습니다\\\"\"\n",
    "print(message)"
   ]
  },
  {
   "cell_type": "code",
   "execution_count": null,
   "metadata": {},
   "outputs": [
    {
     "name": "stdout",
     "output_type": "stream",
     "text": [
      "짜장면 너무 맛있어요\n",
      "여러분들 꼭 사드십시오\n",
      "완전 추천합니다.\n"
     ]
    }
   ],
   "source": [
    "review = \"\"\"짜장면 너무 맛있어요\n",
    "여러분들 꼭 사드십시오\n",
    "완전 추천합니다.\"\"\"\n",
    "print(review)"
   ]
  },
  {
   "cell_type": "code",
   "execution_count": 3,
   "metadata": {},
   "outputs": [
    {
     "name": "stdout",
     "output_type": "stream",
     "text": [
      "짜장면 너무 맛있어요\n",
      "여러분들 꼭 사드십시오\n",
      "완전 추천합니다.\n"
     ]
    }
   ],
   "source": [
    "review = \"짜장면 너무 맛있어요\\n여러분들 꼭 사드십시오\\n완전 추천합니다.\"\n",
    "print(review)"
   ]
  },
  {
   "cell_type": "markdown",
   "metadata": {
    "id": "toneTdjWfpWV"
   },
   "source": [
    "### (2) 연산"
   ]
  },
  {
   "cell_type": "code",
   "execution_count": null,
   "metadata": {},
   "outputs": [
    {
     "name": "stdout",
     "output_type": "stream",
     "text": [
      "안녕반가워\n"
     ]
    }
   ],
   "source": [
    "# +(결합)\n",
    "text1= \"안녕\"\n",
    "text2 = \"반가워\"\n",
    "\n",
    "print(text1 + text2)"
   ]
  },
  {
   "cell_type": "code",
   "execution_count": 5,
   "metadata": {},
   "outputs": [
    {
     "name": "stdout",
     "output_type": "stream",
     "text": [
      "헬로헬로헬로\n"
     ]
    }
   ],
   "source": [
    "# *(반복)\n",
    "text3 = \"헬로\"\n",
    "\n",
    "print(text3 * 3)"
   ]
  },
  {
   "cell_type": "code",
   "execution_count": 6,
   "metadata": {},
   "outputs": [
    {
     "name": "stdout",
     "output_type": "stream",
     "text": [
      "==================================================\n",
      "반복1이 시작되었습니다.\n",
      "==================================================\n"
     ]
    }
   ],
   "source": [
    "# 디버깅\n",
    "print(\"=\" * 50)\n",
    "print(\"반복1이 시작되었습니다.\")\n",
    "print(\"=\" * 50)"
   ]
  },
  {
   "cell_type": "code",
   "execution_count": 8,
   "metadata": {},
   "outputs": [
    {
     "name": "stdout",
     "output_type": "stream",
     "text": [
      "홍길동\n",
      "홍길동 \n"
     ]
    }
   ],
   "source": [
    "name1 = \"홍길동\"\n",
    "name2 = \"홍길동 \"\n",
    "\n",
    "print(name1)\n",
    "print(name2)"
   ]
  },
  {
   "cell_type": "code",
   "execution_count": 9,
   "metadata": {},
   "outputs": [
    {
     "name": "stdout",
     "output_type": "stream",
     "text": [
      "3\n",
      "4\n"
     ]
    }
   ],
   "source": [
    "print(len(name1))\n",
    "print(len(name2))"
   ]
  },
  {
   "cell_type": "markdown",
   "metadata": {
    "id": "hUBJ8gzffpWW"
   },
   "source": [
    "### (3) 인덱싱/슬라이싱 !!!!!!!완전중요!!!!!!!"
   ]
  },
  {
   "cell_type": "markdown",
   "metadata": {},
   "source": [
    "#### 인덱싱"
   ]
  },
  {
   "cell_type": "code",
   "execution_count": 11,
   "metadata": {},
   "outputs": [
    {
     "name": "stdout",
     "output_type": "stream",
     "text": [
      "1\n",
      "1\n"
     ]
    }
   ],
   "source": [
    "regist_num = \"901212-1325221\"\n",
    "\n",
    "print(regist_num[7])\n",
    "print(regist_num[-7])\n"
   ]
  },
  {
   "cell_type": "code",
   "execution_count": 12,
   "metadata": {},
   "outputs": [
    {
     "name": "stdout",
     "output_type": "stream",
     "text": [
      "A\n",
      "B\n",
      "C\n"
     ]
    }
   ],
   "source": [
    "product1 = \"1002A\"\n",
    "product2 = \"1023938B\"\n",
    "product3 = \"22C\"\n",
    "\n",
    "print(product1[-1])\n",
    "print(product2[-1])\n",
    "print(product3[-1])"
   ]
  },
  {
   "cell_type": "markdown",
   "metadata": {
    "id": "y6mwyMTAfpWW"
   },
   "source": [
    "#### 슬라이싱"
   ]
  },
  {
   "cell_type": "code",
   "execution_count": 15,
   "metadata": {},
   "outputs": [
    {
     "name": "stdout",
     "output_type": "stream",
     "text": [
      "1212\n",
      "901212\n",
      "1325221\n",
      "1212\n"
     ]
    }
   ],
   "source": [
    "regist_num = \"901212-1325221\"\n",
    "\n",
    "# print(regist_num[start:end])\n",
    "\n",
    "print(regist_num[2:6])\n",
    "print(regist_num[:6])\n",
    "print(regist_num[7:])\n",
    "\n",
    "# 음수 표현으로 '1212' 추출해보기\n",
    "print(regist_num[-12:-8])"
   ]
  },
  {
   "cell_type": "markdown",
   "metadata": {
    "id": "pdb-uQGQfpWW"
   },
   "source": [
    "문제. 주민등번호 뒷자리에서 성별을 제외하고 *로 표시해주세요."
   ]
  },
  {
   "cell_type": "code",
   "execution_count": 19,
   "metadata": {
    "id": "d5Tm04Y7fpWW"
   },
   "outputs": [
    {
     "name": "stdout",
     "output_type": "stream",
     "text": [
      "901212-1\n",
      "******\n",
      "901212-1******\n"
     ]
    }
   ],
   "source": [
    "regist_num = \"901212-1325221\"\n",
    "# print(regist_num[:8] + \"*\"*6)\n",
    "\n",
    "# 1. 성별까지의 문자열을 추출한다.\n",
    "# 2. 뒤의 6자리를 *로 표현한다.\n",
    "# 1과 2를 합친다.\n",
    "\n",
    "left = regist_num[:8]\n",
    "print(left)\n",
    "right = \"*\" * 6\n",
    "print(right)\n",
    "\n",
    "result = left + right\n",
    "print(result)\n",
    "\n"
   ]
  },
  {
   "cell_type": "markdown",
   "metadata": {
    "id": "gATEkKPQfpWW"
   },
   "source": [
    "### (4) 문자열 포매팅(f-string)"
   ]
  },
  {
   "cell_type": "code",
   "execution_count": 55,
   "metadata": {
    "id": "NYRqG_0QfpWW"
   },
   "outputs": [
    {
     "name": "stdout",
     "output_type": "stream",
     "text": [
      "홍길동님 환영합니다.\n",
      "홍길동님 환영합니다.\n",
      "홍길동님 환영합니다.\n",
      "안녕하세요 홍길동님 환영합니다.\n",
      "안녕하세요 홍길동님 환영합니다.\n",
      "안녕하세요 홍길동님 환영합니다.\n"
     ]
    }
   ],
   "source": [
    "name = \"홍길동\"\n",
    "\n",
    "print(f\"{name}님 환영합니다.\")\n",
    "print(\"%s님 환영합니다.\" %(name))\n",
    "print(\"{}님 환영합니다.\" .format(name))\n",
    "\n",
    "print(f\"안녕하세요 {name}님 환영합니다.\")\n",
    "print(\"안녕하세요 %s님 환영합니다.\" %(name))\n",
    "print(\"안녕하세요 {}님 환영합니다.\" .format(name))\n"
   ]
  },
  {
   "cell_type": "markdown",
   "metadata": {
    "id": "JeI53FmcfpWW"
   },
   "source": [
    "### (5) 관련 메서드"
   ]
  },
  {
   "cell_type": "markdown",
   "metadata": {
    "id": "2kO-FpdCfpWW"
   },
   "source": [
    "#### ⭐ 문자열 나누기(split)"
   ]
  },
  {
   "cell_type": "code",
   "execution_count": 25,
   "metadata": {
    "id": "UjuLhug4fpWW"
   },
   "outputs": [
    {
     "name": "stdout",
     "output_type": "stream",
     "text": [
      "['서울시', '관악구', '신림동']\n",
      "['서울시', '관악구', '신림동']\n",
      "['강남구', '동작구', '노원구']\n"
     ]
    }
   ],
   "source": [
    "address1 = \"서울시 관악구 신림동\"\n",
    "address2 = \"강남구/동작구/노원구\"\n",
    "\n",
    "print(address1.split(\" \"))\n",
    "print(address1.split())\n",
    "print(address2.split(\"/\"))"
   ]
  },
  {
   "cell_type": "markdown",
   "metadata": {
    "id": "O7SkuuYafpWW"
   },
   "source": [
    "예제. 파일 확장자 찾기"
   ]
  },
  {
   "cell_type": "code",
   "execution_count": 28,
   "metadata": {
    "id": "8HHL8hmKfpWW"
   },
   "outputs": [
    {
     "name": "stdout",
     "output_type": "stream",
     "text": [
      "['data', 'txt']\n",
      "txt\n"
     ]
    }
   ],
   "source": [
    "file_name1 = \"data.txt\"\n",
    "file_name2 = \"text.ipynb\"\n",
    "file_name3 = \"time_stamp.json\"\n",
    "\n",
    "# 확장자 추출\n",
    "print(file_name1.split(\".\"))\n",
    "print(file_name1.split(\".\")[-1])"
   ]
  },
  {
   "cell_type": "markdown",
   "metadata": {
    "id": "9AbgJyKYfpWW"
   },
   "source": [
    "#### 문자열 대체(replace)"
   ]
  },
  {
   "cell_type": "code",
   "execution_count": 30,
   "metadata": {
    "id": "vdNBt5V5fpWW"
   },
   "outputs": [
    {
     "name": "stdout",
     "output_type": "stream",
     "text": [
      "peter@company.com\n"
     ]
    }
   ],
   "source": [
    "email = \"json@company.com\"\n",
    "\n",
    "print(email.replace(\"json\", \"peter\"))"
   ]
  },
  {
   "cell_type": "markdown",
   "metadata": {
    "id": "WcpA-035fpWW"
   },
   "source": [
    "#### 대/소문자 변환(lower, upper)"
   ]
  },
  {
   "cell_type": "code",
   "execution_count": 34,
   "metadata": {
    "id": "BtobhPadfpWW"
   },
   "outputs": [
    {
     "name": "stdout",
     "output_type": "stream",
     "text": [
      "mmffmfmf\n",
      "MMFFMFMF\n"
     ]
    }
   ],
   "source": [
    "gender = \"mmffMFmf\"\n",
    "print(gender.lower())\n",
    "print(gender.upper())"
   ]
  },
  {
   "cell_type": "markdown",
   "metadata": {
    "id": "9_t2Lzt6fpWW"
   },
   "source": [
    "#### 공백 제거(lstrip/rstrip/strip)"
   ]
  },
  {
   "cell_type": "code",
   "execution_count": null,
   "metadata": {
    "id": "NSZRjfk2fpWW"
   },
   "outputs": [
    {
     "name": "stdout",
     "output_type": "stream",
     "text": [
      "   홍길동    \n",
      "|   홍길동    |\n",
      "|홍길동|\n",
      "|홍길동    |\n",
      "|   홍길동|\n"
     ]
    }
   ],
   "source": [
    "name = \"   홍길동    \"\n",
    "\n",
    "print(name)\n",
    "print(f\"|{name}|\")\n",
    "# 공백제거\n",
    "print(f\"|{name.strip()}|\")\n",
    "# 왼쪽공백제거(left)\n",
    "print(f\"|{name.lstrip()}|\")\n",
    "# 오른쪽공백제거(right)\n",
    "print(f\"|{name.rstrip()}|\")"
   ]
  },
  {
   "cell_type": "markdown",
   "metadata": {
    "id": "MDmVNNmlfpWX"
   },
   "source": [
    "#### 카운트 세기(count)"
   ]
  },
  {
   "cell_type": "code",
   "execution_count": 38,
   "metadata": {
    "id": "4OabxfPpfpWX"
   },
   "outputs": [
    {
     "name": "stdout",
     "output_type": "stream",
     "text": [
      "3\n",
      "4\n"
     ]
    }
   ],
   "source": [
    "gender1 = \"mmffMFmf\"\n",
    "gender2 = gender.lower()\n",
    "\n",
    "print(gender1.count(\"m\"))\n",
    "print(gender2.count(\"m\"))\n"
   ]
  },
  {
   "cell_type": "markdown",
   "metadata": {
    "id": "TcBsq-A4fpWX"
   },
   "source": [
    "예제. 리뷰\n",
    "\n",
    "짬뽕은 정말 맵고 맛있었어요. 해산물이 가득 들어가서 만족했습니다.\n",
    "짜장면은 이 집에서 먹어본 것 중 가장 맛있었어요\n",
    "짜장면 굿"
   ]
  },
  {
   "cell_type": "code",
   "execution_count": 40,
   "metadata": {
    "id": "dU5G3cEufpWX"
   },
   "outputs": [
    {
     "name": "stdout",
     "output_type": "stream",
     "text": [
      "짬뽕은 정말 맵고 맛있었어요. 해산물이 가득 들어가서 만족했습니다.\n",
      "짜장면은 이 집에서 먹어본 것 중 가장 맛있었어요\n",
      "짜장면 굿\n"
     ]
    }
   ],
   "source": [
    "review = \"\"\"짬뽕은 정말 맵고 맛있었어요. 해산물이 가득 들어가서 만족했습니다.\n",
    "짜장면은 이 집에서 먹어본 것 중 가장 맛있었어요\n",
    "짜장면 굿\"\"\"\n",
    "\n",
    "print(review)"
   ]
  },
  {
   "cell_type": "code",
   "execution_count": 57,
   "metadata": {},
   "outputs": [
    {
     "name": "stdout",
     "output_type": "stream",
     "text": [
      "짬뽕은 정말 맵고 맛있었어요. 해산물이 가득 들어가서 만족했습니다.\n",
      "짜장면은 이 집에서 먹어본 것 중 가장 맛있었어요\n",
      "짜장면 굿\n"
     ]
    }
   ],
   "source": [
    "review = \"짬뽕은 정말 맵고 맛있었어요. 해산물이 가득 들어가서 만족했습니다.\\n짜장면은 이 집에서 먹어본 것 중 가장 맛있었어요\\n짜장면 굿\"\n",
    "print(review)"
   ]
  },
  {
   "cell_type": "code",
   "execution_count": 41,
   "metadata": {},
   "outputs": [
    {
     "name": "stdout",
     "output_type": "stream",
     "text": [
      "1\n"
     ]
    }
   ],
   "source": [
    "# 짬뽕 개수 추출하기\n",
    "print(review.count(\"짬뽕\"))"
   ]
  },
  {
   "cell_type": "markdown",
   "metadata": {
    "id": "32pY-NGFfpWX"
   },
   "source": [
    "## 3) 리스트(List)"
   ]
  },
  {
   "cell_type": "markdown",
   "metadata": {
    "id": "wZ5yZQH-fpWX"
   },
   "source": [
    "### (1) 표현"
   ]
  },
  {
   "cell_type": "code",
   "execution_count": 1,
   "metadata": {
    "id": "HA86_T3JfpWX"
   },
   "outputs": [
    {
     "name": "stdout",
     "output_type": "stream",
     "text": [
      "[]\n",
      "<class 'list'>\n"
     ]
    }
   ],
   "source": [
    "# 정수 int 실수 float 문자열 str 리스트 list 튜플 tuple 딕셔너리 dict 집합 set 불 bool\n",
    "mylist = []\n",
    "print(mylist)\n",
    "print(type(mylist))"
   ]
  },
  {
   "cell_type": "code",
   "execution_count": 2,
   "metadata": {},
   "outputs": [
    {
     "name": "stdout",
     "output_type": "stream",
     "text": [
      "55000\n"
     ]
    }
   ],
   "source": [
    "jan = 20000\n",
    "feb = 5000\n",
    "mar = 30000\n",
    "\n",
    "money = jan + feb + mar\n",
    "print(money)"
   ]
  },
  {
   "cell_type": "code",
   "execution_count": 3,
   "metadata": {},
   "outputs": [
    {
     "name": "stdout",
     "output_type": "stream",
     "text": [
      "47000\n"
     ]
    }
   ],
   "source": [
    "money2025 = [2000, 40000, 5000]\n",
    "print(sum(money2025))"
   ]
  },
  {
   "cell_type": "code",
   "execution_count": 5,
   "metadata": {},
   "outputs": [
    {
     "name": "stdout",
     "output_type": "stream",
     "text": [
      "[1, 2, 3, '가', ['a', 'b', 'c'], (1, 2), {'key': 'value'}]\n"
     ]
    }
   ],
   "source": [
    "# 리스트 만들기\n",
    "mylist = [1, 2, 3, \"가\", [\"a\", \"b\", \"c\"], (1, 2), {\"key\" : \"value\"}]\n",
    "print(mylist)\n"
   ]
  },
  {
   "cell_type": "markdown",
   "metadata": {
    "id": "MJ0aiHRifpWX"
   },
   "source": [
    "### (2) 인덱싱/슬라이싱"
   ]
  },
  {
   "cell_type": "markdown",
   "metadata": {
    "id": "-4z5eF4FfpWX"
   },
   "source": [
    "#### 인덱싱"
   ]
  },
  {
   "cell_type": "code",
   "execution_count": 7,
   "metadata": {},
   "outputs": [
    {
     "name": "stdout",
     "output_type": "stream",
     "text": [
      "5\n"
     ]
    }
   ],
   "source": [
    "text = \"가나다라마\"\n",
    "print(len(text))"
   ]
  },
  {
   "cell_type": "code",
   "execution_count": 8,
   "metadata": {},
   "outputs": [
    {
     "name": "stdout",
     "output_type": "stream",
     "text": [
      "(['홍길동', 30], ['박영희', 22], ['김철수', 25])\n",
      "3\n"
     ]
    }
   ],
   "source": [
    "data = ['홍길동', 30], ['박영희', 22], ['김철수', 25]\n",
    "\n",
    "print(data)\n",
    "print(len(data))"
   ]
  },
  {
   "cell_type": "code",
   "execution_count": 10,
   "metadata": {},
   "outputs": [
    {
     "name": "stdout",
     "output_type": "stream",
     "text": [
      "['박영희', 22]\n",
      "22\n"
     ]
    }
   ],
   "source": [
    "# ['박영희', 22] 를 추출하고 싶어요\n",
    "print(data[1])\n",
    "\n",
    "# 22를 추출하고 싶어요\n",
    "print(data[1][1])"
   ]
  },
  {
   "cell_type": "markdown",
   "metadata": {
    "id": "FYU_bl_6fpWb"
   },
   "source": [
    "#### 슬라이싱"
   ]
  },
  {
   "cell_type": "code",
   "execution_count": 45,
   "metadata": {},
   "outputs": [
    {
     "name": "stdout",
     "output_type": "stream",
     "text": [
      "['bread', 'coke', 'pizza', 'pasta']\n"
     ]
    }
   ],
   "source": [
    "orders = [\"pasta\", \"pizza\", \"coke\", \"bread\"]\n",
    "# 거꾸로\n",
    "print(orders[::-1])"
   ]
  },
  {
   "cell_type": "markdown",
   "metadata": {
    "id": "M5-urS5_fpWb"
   },
   "source": [
    "예제.\n",
    "\n",
    "```\n",
    "data = [25, \"apple\", 3.13, [\"dog\", \"cat\", \"rabbit\"]]\n",
    "```\n",
    "\n",
    "* \"cat\" 출력"
   ]
  },
  {
   "cell_type": "code",
   "execution_count": 20,
   "metadata": {
    "id": "CQTMPPw-fpWb"
   },
   "outputs": [
    {
     "name": "stdout",
     "output_type": "stream",
     "text": [
      "cat\n",
      "cat\n"
     ]
    }
   ],
   "source": [
    "data = [25, \"apple\", 3.13, [\"dog\", \"cat\", \"rabbit\"]]\n",
    "print(data[3][1])\n",
    "print(data[-1][1])"
   ]
  },
  {
   "cell_type": "markdown",
   "metadata": {
    "id": "aG4ATJ-HfpWb"
   },
   "source": [
    "예제.\n",
    "\n",
    "```\n",
    "data = [25, 'apple', 3.13, ['dog', 'cat', 'rabbit']]\n",
    "```\n",
    "\n",
    "* ['dog', 'cat'] 출력"
   ]
  },
  {
   "cell_type": "code",
   "execution_count": 22,
   "metadata": {
    "id": "9UwRH5WafpWb"
   },
   "outputs": [
    {
     "name": "stdout",
     "output_type": "stream",
     "text": [
      "['dog', 'cat']\n",
      "['dog', 'cat']\n"
     ]
    }
   ],
   "source": [
    "data = [25, 'apple', 3.13, ['dog', 'cat', 'rabbit']]\n",
    "\n",
    "print(data[3][:2])\n",
    "print(data[-1][:2])"
   ]
  },
  {
   "cell_type": "markdown",
   "metadata": {
    "id": "1I_5wkFhfpWb"
   },
   "source": [
    "### (2) 연산"
   ]
  },
  {
   "cell_type": "markdown",
   "metadata": {
    "id": "ESRph4l8fpWc"
   },
   "source": [
    "#### 덧셈 (결합)"
   ]
  },
  {
   "cell_type": "code",
   "execution_count": 23,
   "metadata": {},
   "outputs": [
    {
     "name": "stdout",
     "output_type": "stream",
     "text": [
      "점심뭐먹지?\n"
     ]
    }
   ],
   "source": [
    "text1 = \"점심\"\n",
    "text2 = \"뭐먹지?\"\n",
    "\n",
    "result = text1 + text2\n",
    "print(result)"
   ]
  },
  {
   "cell_type": "code",
   "execution_count": 24,
   "metadata": {},
   "outputs": [
    {
     "name": "stdout",
     "output_type": "stream",
     "text": [
      "[1, 2, 3, 'A', 'B']\n"
     ]
    }
   ],
   "source": [
    "data1 = [1, 2, 3]\n",
    "data2 = [\"A\", \"B\"]\n",
    "\n",
    "result = data1 + data2\n",
    "print(result)"
   ]
  },
  {
   "cell_type": "code",
   "execution_count": 27,
   "metadata": {},
   "outputs": [
    {
     "name": "stdout",
     "output_type": "stream",
     "text": [
      "[10, 0, 3, 2, 2, 50, 23, 39]\n"
     ]
    }
   ],
   "source": [
    "jan_visits = [10, 0, 3, 2]\n",
    "feb_visits = [2, 50, 23, 39]\n",
    "\n",
    "visits = jan_visits + feb_visits\n",
    "print(visits)"
   ]
  },
  {
   "cell_type": "markdown",
   "metadata": {
    "id": "BbGZBaetfpWc"
   },
   "source": [
    "#### 곱셈 (복제)"
   ]
  },
  {
   "cell_type": "code",
   "execution_count": 26,
   "metadata": {},
   "outputs": [
    {
     "name": "stdout",
     "output_type": "stream",
     "text": [
      "안녕안녕안녕안녕안녕\n"
     ]
    }
   ],
   "source": [
    "text = \"안녕\"\n",
    "\n",
    "result = text * 5\n",
    "print(result)"
   ]
  },
  {
   "cell_type": "code",
   "execution_count": 25,
   "metadata": {},
   "outputs": [
    {
     "name": "stdout",
     "output_type": "stream",
     "text": [
      "[1, 2, 3, 1, 2, 3, 1, 2, 3]\n"
     ]
    }
   ],
   "source": [
    "data = [1, 2, 3]\n",
    "result = data * 3\n",
    "print(result)"
   ]
  },
  {
   "cell_type": "markdown",
   "metadata": {
    "id": "qpxQzhmbfpWc"
   },
   "source": [
    "### (3) range"
   ]
  },
  {
   "cell_type": "markdown",
   "metadata": {},
   "source": [
    "`range(n)` : 0부터 n-1까지의 범위를 만들어줌"
   ]
  },
  {
   "cell_type": "code",
   "execution_count": 29,
   "metadata": {},
   "outputs": [
    {
     "name": "stdout",
     "output_type": "stream",
     "text": [
      "range(0, 4)\n",
      "<class 'range'>\n"
     ]
    }
   ],
   "source": [
    "# 연속된 숫자를 리스트로 만들고 싶어요\n",
    "num_list = range(4)\n",
    "\n",
    "print(num_list)\n",
    "print(type(num_list))"
   ]
  },
  {
   "cell_type": "code",
   "execution_count": 31,
   "metadata": {},
   "outputs": [
    {
     "name": "stdout",
     "output_type": "stream",
     "text": [
      "[0, 1, 2, 3]\n"
     ]
    }
   ],
   "source": [
    "num_list = list(range(4))\n",
    "\n",
    "print(num_list)"
   ]
  },
  {
   "cell_type": "markdown",
   "metadata": {},
   "source": [
    "`range(start, end)` : start부터 end-1까지의 범위를 만들어줌\n",
    "\n",
    "`range(start, end, step)` : start부터 end-1까지의 step 간격으로 범위를 만들어줌"
   ]
  },
  {
   "cell_type": "code",
   "execution_count": 44,
   "metadata": {},
   "outputs": [
    {
     "name": "stdout",
     "output_type": "stream",
     "text": [
      "[3, 4, 5, 6, 7, 8, 9]\n",
      "[1, 3, 5, 7, 9]\n",
      "[0, 2, 4, 6, 8, 10]\n",
      "[5, 4, 3, 2, 1, 0]\n"
     ]
    }
   ],
   "source": [
    "# 3부터 9까지의 범위를 리스트로 출력하고 싶어요\n",
    "num_list1 = list(range(3,10))\n",
    "print(num_list1)\n",
    "\n",
    "\n",
    "# 0에서 10까지 홀수만 출력하고 싶어요\n",
    "num_list2 = list(range(1,11,2))\n",
    "print(num_list2)\n",
    "\n",
    "# 0에서 10까지 짝수만 출력하고 싶어요\n",
    "num_list2 = list(range(0,11,2))\n",
    "print(num_list2)\n",
    "\n",
    "# 0에서 5까지의 범위를 거꾸로 출력하고 싶어요\n",
    "num_list3 = list(range(5,-1, -1))\n",
    "print(num_list3)"
   ]
  },
  {
   "cell_type": "markdown",
   "metadata": {
    "id": "cUcxDoQtfpWc"
   },
   "source": [
    "### (4) 수정/추가/삭제"
   ]
  },
  {
   "cell_type": "markdown",
   "metadata": {
    "id": "eYSBz_UVfpWc"
   },
   "source": [
    "#### 수정"
   ]
  },
  {
   "cell_type": "code",
   "execution_count": 28,
   "metadata": {},
   "outputs": [
    {
     "name": "stdout",
     "output_type": "stream",
     "text": [
      "[0, 1, 2, 3, 4, 5, 6, 7]\n",
      "1\n",
      "[0, '일', 2, 3, 4, 5, 6, 7]\n",
      "5\n",
      "[0, '일', 2, 3, 4, '오', 6, 7]\n",
      "[2, 3]\n",
      "[0, '일', 'two', 'three', 4, '오', 6, 7]\n",
      "['three', 4, '오', 6, 7]\n",
      "[0, '일', 'two', '하', '하', '하']\n",
      "[0, '일', 'two', '하']\n"
     ]
    },
    {
     "ename": "TypeError",
     "evalue": "can only assign an iterable",
     "output_type": "error",
     "traceback": [
      "\u001b[1;31m---------------------------------------------------------------------------\u001b[0m",
      "\u001b[1;31mTypeError\u001b[0m                                 Traceback (most recent call last)",
      "Cell \u001b[1;32mIn[28], line 31\u001b[0m\n\u001b[0;32m     29\u001b[0m \u001b[38;5;66;03m# 처음부터 3번째까지의 데이터를 10으로 바꾸기\u001b[39;00m\n\u001b[0;32m     30\u001b[0m \u001b[38;5;28mprint\u001b[39m(num_list[:\u001b[38;5;241m4\u001b[39m])\n\u001b[1;32m---> 31\u001b[0m \u001b[43mnum_list\u001b[49m\u001b[43m[\u001b[49m\u001b[43m:\u001b[49m\u001b[38;5;241;43m4\u001b[39;49m\u001b[43m]\u001b[49m \u001b[38;5;241m=\u001b[39m \u001b[38;5;241m10\u001b[39m\n\u001b[0;32m     32\u001b[0m \u001b[38;5;66;03m# num_list[:4] = [10,10,10,10]\u001b[39;00m\n\u001b[0;32m     33\u001b[0m \u001b[38;5;28mprint\u001b[39m(num_list)\n",
      "\u001b[1;31mTypeError\u001b[0m: can only assign an iterable"
     ]
    }
   ],
   "source": [
    "# 0에서 7까지의 범위를 리스트로 출력\n",
    "num_list = list(range(8))\n",
    "print(num_list)\n",
    "\n",
    "# 1번째 값을 '일'로 바꾸기\n",
    "print(num_list[1])\n",
    "num_list[1] = \"일\"\n",
    "print(num_list)\n",
    "\n",
    "# 5번째 값을 '오'로 바꾸기\n",
    "print(num_list[5])\n",
    "num_list[5] = \"오\"\n",
    "print(num_list)\n",
    "\n",
    "# 2번째에서 3번째까지의 데이터를 영어로 바꾸기\n",
    "# num_list[2] = \"two\"\n",
    "# num_list[3] = \"three\"\n",
    "print(num_list[2:4])\n",
    "num_list[2:4] = [\"two\", \"three\"]\n",
    "print(num_list)\n",
    "\n",
    "# 3번째에서 끝까지의 데이터를 \"하하하\"로 바꾸기\n",
    "# print(num_list(range(7,8)))\n",
    "# print(num_list(range(7,8)))\n",
    "print(num_list[3:])\n",
    "num_list[3:] = \"하하하\"\n",
    "print(num_list)\n",
    "\n",
    "# 처음부터 3번째까지의 데이터를 10으로 바꾸기\n",
    "print(num_list[:4])\n",
    "num_list[:4] = 10\n",
    "# num_list[:4] = [10,10,10,10]\n",
    "print(num_list)\n",
    "\n"
   ]
  },
  {
   "cell_type": "markdown",
   "metadata": {},
   "source": [
    "- 슬라이싱한 자료를 대체하기 위해서는 여러 개의 자료가 담긴 리스트여야 한다 (한개의 자료이면 안된다)\n",
    "- 문자열(ex. \"안녕하세요\") 자동으로 글자 하나하나를 요소로 인식해준다."
   ]
  },
  {
   "cell_type": "markdown",
   "metadata": {
    "id": "gESOTUWxfpWc"
   },
   "source": [
    "#### 추가"
   ]
  },
  {
   "cell_type": "code",
   "execution_count": 78,
   "metadata": {},
   "outputs": [
    {
     "name": "stdout",
     "output_type": "stream",
     "text": [
      "[0, 1, 2, 3, 4]\n",
      "[0, 1, 2, 3, 4, 5]\n",
      "[0, 1, 2, 3, 4, 5, 1, 2, 3]\n",
      "[0, 1, 2, 3, 4, 5, 1, 2, 3, [1, 2, 3, 4, 5]]\n"
     ]
    }
   ],
   "source": [
    "data = list(range(5))\n",
    "print(data)\n",
    "\n",
    "# 데이터 한 개 추가(5를 추가)\n",
    "data = data + [5]\n",
    "print(data)\n",
    "\n",
    "# 데이터 한 개 추가([1, 2, 3]를 추가)\n",
    "data = data + [1, 2, 3]\n",
    "print(data)\n",
    "\n",
    "# 데이터 한 개 추가([1, 2, 3, 4, 5]를 추가)\n",
    "data.append([1, 2, 3, 4, 5])\n",
    "print(data)\n"
   ]
  },
  {
   "cell_type": "code",
   "execution_count": 77,
   "metadata": {},
   "outputs": [
    {
     "name": "stdout",
     "output_type": "stream",
     "text": [
      "[0, 1, 2, 3, 4, 5, 1, 2, 3, [1, 2, 3, 4, 5], 1, 2, 3, 4, 5, 1, 2, 3, 4, 5]\n"
     ]
    }
   ],
   "source": [
    "# 데이터 여러 개 추가(extend)\n",
    "data.extend([1, 2, 3, 4, 5])\n",
    "print(data)"
   ]
  },
  {
   "cell_type": "markdown",
   "metadata": {},
   "source": [
    "#### 삽입"
   ]
  },
  {
   "cell_type": "code",
   "execution_count": null,
   "metadata": {},
   "outputs": [
    {
     "name": "stdout",
     "output_type": "stream",
     "text": [
      "[10, 20, 30]\n",
      "[10, 20, 40, 30]\n"
     ]
    }
   ],
   "source": [
    "num_list = [10, 20, 30]\n",
    "print(num_list)\n",
    "\n",
    "# .insert(위치, 값) : 위치에 값을 삽입해주세요\n",
    "num_list.insert(2, 40)\n",
    "print(num_list)"
   ]
  },
  {
   "cell_type": "markdown",
   "metadata": {
    "id": "bJ4Jr4egfpWc"
   },
   "source": [
    "#### 삭제"
   ]
  },
  {
   "cell_type": "code",
   "execution_count": 91,
   "metadata": {
    "id": "TTVODq-pfpWc"
   },
   "outputs": [
    {
     "name": "stdout",
     "output_type": "stream",
     "text": [
      "[0, 10, 20, 30, 40, 50, 60, 70, 80, 90]\n",
      "[0, 10, 20, 40, 50, 60, 70, 80, 90]\n",
      "[0, 10, 20, 40, 50, 60, 80, 90]\n",
      "[0, 10, 20, 40, 50]\n",
      "50\n",
      "[0, 10, 20, 40]\n"
     ]
    }
   ],
   "source": [
    "num_list = list(range(0, 100, 10))\n",
    "print(num_list)\n",
    "\n",
    "# 3번째 데이터를 삭제해주세요(del 이용)\n",
    "del num_list[3]\n",
    "print(num_list)\n",
    "\n",
    "# 7번째 데이터를 삭제해주세요(remove 이용)\n",
    "# num_list.remove(num_list[7])\n",
    "num_list.remove(70)\n",
    "print(num_list)\n",
    "\n",
    "# 뒤에서 3번째부터 데이터를 삭제해주세요\n",
    "num_list[-3:] = []\n",
    "print(num_list)\n",
    "\n",
    "# 맨 뒤에 있는 데이터를 삭제하고 그 값을 출력해주세요(pop 이용)\n",
    "pop_value = num_list.pop()\n",
    "print(pop_value)\n",
    "print(num_list)"
   ]
  },
  {
   "cell_type": "markdown",
   "metadata": {
    "id": "3jw2_iXffpWc"
   },
   "source": [
    "예제. 게시물 코드\n",
    "\n",
    "```\n",
    "post_data = [\"ID001\", \"ID002\", \"ID003\", \"ID004\", \"ID005\"]\n",
    "```"
   ]
  },
  {
   "cell_type": "code",
   "execution_count": 93,
   "metadata": {},
   "outputs": [
    {
     "name": "stdout",
     "output_type": "stream",
     "text": [
      "ID003\n",
      "['ID001', 'ID002', 'ID004', 'ID005']\n",
      "['ID003']\n"
     ]
    }
   ],
   "source": [
    "# \"ID003\" 데이터에 오류가 생겼다.\n",
    "# 오류가 생긴 데이터는 삭제하고 error_data에 담아주세요\n",
    "post_data = [\"ID001\", \"ID002\", \"ID003\", \"ID004\", \"ID005\"]\n",
    "pop_data = post_data.pop(2)\n",
    "print(pop_data)\n",
    "print(post_data)\n",
    "\n",
    "error_data = []\n",
    "error_data.append(pop_data)\n",
    "print(error_data)"
   ]
  },
  {
   "cell_type": "markdown",
   "metadata": {
    "id": "nzrEdhKXfpWc"
   },
   "source": [
    "## 4) 튜플(Tuple)"
   ]
  },
  {
   "cell_type": "markdown",
   "metadata": {
    "id": "k6jpRXd8fpWc"
   },
   "source": [
    "### (1) 표현"
   ]
  },
  {
   "cell_type": "code",
   "execution_count": 96,
   "metadata": {},
   "outputs": [
    {
     "name": "stdout",
     "output_type": "stream",
     "text": [
      "()\n",
      "<class 'tuple'>\n"
     ]
    }
   ],
   "source": [
    "# 빈 튜플 만들기\n",
    "data = ()\n",
    "print(data)\n",
    "\n",
    "# 튜플 데이터의 타입 출력하기\n",
    "print(type(data))"
   ]
  },
  {
   "cell_type": "code",
   "execution_count": 29,
   "metadata": {},
   "outputs": [
    {
     "name": "stdout",
     "output_type": "stream",
     "text": [
      "10\n",
      "<class 'int'>\n",
      "(10,)\n",
      "<class 'tuple'>\n",
      "(10,)\n",
      "<class 'tuple'>\n"
     ]
    }
   ],
   "source": [
    "# 요소가 1개인 튜플 만들기(데이터 10)\n",
    "data = (10)\n",
    "print(data)\n",
    "print(type(data))\n",
    "\n",
    "data = (10,)\n",
    "print(data)\n",
    "print(type(data))\n",
    "\n",
    "data = 10,\n",
    "print(data)\n",
    "print(type(data))"
   ]
  },
  {
   "cell_type": "code",
   "execution_count": 100,
   "metadata": {},
   "outputs": [
    {
     "ename": "TypeError",
     "evalue": "'tuple' object does not support item assignment",
     "output_type": "error",
     "traceback": [
      "\u001b[1;31m---------------------------------------------------------------------------\u001b[0m",
      "\u001b[1;31mTypeError\u001b[0m                                 Traceback (most recent call last)",
      "Cell \u001b[1;32mIn[100], line 3\u001b[0m\n\u001b[0;32m      1\u001b[0m \u001b[38;5;66;03m# 수정 불가\u001b[39;00m\n\u001b[0;32m      2\u001b[0m fruits \u001b[38;5;241m=\u001b[39m (\u001b[38;5;124m\"\u001b[39m\u001b[38;5;124m사과\u001b[39m\u001b[38;5;124m\"\u001b[39m, \u001b[38;5;124m\"\u001b[39m\u001b[38;5;124m오렌지\u001b[39m\u001b[38;5;124m\"\u001b[39m, \u001b[38;5;124m\"\u001b[39m\u001b[38;5;124m포도\u001b[39m\u001b[38;5;124m\"\u001b[39m)\n\u001b[1;32m----> 3\u001b[0m \u001b[43mfruits\u001b[49m\u001b[43m[\u001b[49m\u001b[38;5;241;43m1\u001b[39;49m\u001b[43m]\u001b[49m \u001b[38;5;241m=\u001b[39m \u001b[38;5;124m'\u001b[39m\u001b[38;5;124m멜론\u001b[39m\u001b[38;5;124m'\u001b[39m\n\u001b[0;32m      4\u001b[0m \u001b[38;5;28mprint\u001b[39m(fruits)\n",
      "\u001b[1;31mTypeError\u001b[0m: 'tuple' object does not support item assignment"
     ]
    }
   ],
   "source": [
    "# 수정 불가\n",
    "fruits = (\"사과\", \"오렌지\", \"포도\")\n",
    "fruits[1] = '멜론'\n",
    "print(fruits)"
   ]
  },
  {
   "cell_type": "code",
   "execution_count": 101,
   "metadata": {},
   "outputs": [
    {
     "ename": "TypeError",
     "evalue": "'tuple' object doesn't support item deletion",
     "output_type": "error",
     "traceback": [
      "\u001b[1;31m---------------------------------------------------------------------------\u001b[0m",
      "\u001b[1;31mTypeError\u001b[0m                                 Traceback (most recent call last)",
      "Cell \u001b[1;32mIn[101], line 2\u001b[0m\n\u001b[0;32m      1\u001b[0m \u001b[38;5;66;03m# 삭제 불가\u001b[39;00m\n\u001b[1;32m----> 2\u001b[0m \u001b[38;5;28;01mdel\u001b[39;00m fruits[\u001b[38;5;241m-\u001b[39m\u001b[38;5;241m1\u001b[39m]\n\u001b[0;32m      3\u001b[0m \u001b[38;5;28mprint\u001b[39m(fruits)\n",
      "\u001b[1;31mTypeError\u001b[0m: 'tuple' object doesn't support item deletion"
     ]
    }
   ],
   "source": [
    "# 삭제 불가\n",
    "del fruits[-1]\n",
    "print(fruits)"
   ]
  },
  {
   "cell_type": "markdown",
   "metadata": {
    "id": "bCZYM_W2fpWc"
   },
   "source": [
    "## 5) 딕셔너리(Dictionary)"
   ]
  },
  {
   "cell_type": "markdown",
   "metadata": {
    "id": "iQ82NPU1fpWc"
   },
   "source": [
    "### (1) 표현"
   ]
  },
  {
   "cell_type": "code",
   "execution_count": 102,
   "metadata": {},
   "outputs": [
    {
     "name": "stdout",
     "output_type": "stream",
     "text": [
      "{}\n",
      "<class 'dict'>\n"
     ]
    }
   ],
   "source": [
    "data = {}\n",
    "print(data)\n",
    "print(type(data))"
   ]
  },
  {
   "cell_type": "code",
   "execution_count": 30,
   "metadata": {},
   "outputs": [
    {
     "name": "stdout",
     "output_type": "stream",
     "text": [
      "[['홍길동', 68], ['최수연', 44], ['김철수', 90]]\n",
      "<class 'list'>\n"
     ]
    }
   ],
   "source": [
    "data = [[\"홍길동\", 68], [\"최수연\", 44], [\"김철수\", 90]]\n",
    "print(data)\n",
    "print(type(data))"
   ]
  },
  {
   "cell_type": "code",
   "execution_count": 106,
   "metadata": {},
   "outputs": [
    {
     "name": "stdout",
     "output_type": "stream",
     "text": [
      "{'이름': ['홍길동', '최수연', '김철수'], '성적': [69, 44, 90]}\n",
      "{'홍길동': 68, '최수연': 44, '김철수': 90}\n",
      "3\n"
     ]
    }
   ],
   "source": [
    "score_data1 = {\n",
    "    \"이름\" : [\"홍길동\", \"최수연\", \"김철수\"],\n",
    "    \"성적\" : [69, 44, 90]\n",
    "}\n",
    "score_data2 = {\n",
    "    \"홍길동\" : 68, \"최수연\" : 44, \"김철수\" : 90\n",
    "}\n",
    "print(score_data1)\n",
    "print(score_data2)\n",
    "print(len(score_data2))"
   ]
  },
  {
   "cell_type": "code",
   "execution_count": 105,
   "metadata": {},
   "outputs": [
    {
     "name": "stdout",
     "output_type": "stream",
     "text": [
      "[{'이름': '홍길동', '성적': 68}, {'이름': '최수연', '성적': 44}, {'이름': '김철수', '성적': 90}]\n"
     ]
    }
   ],
   "source": [
    "score_data3 = [\n",
    "    {\"이름\" : \"홍길동\", \"성적\" : 68},\n",
    "    {\"이름\" : \"최수연\", \"성적\" : 44},\n",
    "    {\"이름\" : \"김철수\", \"성적\" : 90},\n",
    "]\n",
    "print(score_data3)"
   ]
  },
  {
   "cell_type": "markdown",
   "metadata": {
    "id": "hakTc3rjfpWc"
   },
   "source": [
    "### (2) 딕셔너리 다루기"
   ]
  },
  {
   "cell_type": "markdown",
   "metadata": {
    "id": "s2HGu7VwfpWc"
   },
   "source": [
    "예제. 날씨 데이터\n",
    "* 'city'키 'Busan'으로 수정하기\n",
    "* 미세먼지(`pm10`)키 추가하기 (값: 34)\n",
    "* 'forecast' 키에 ['Rainy', 'Rainy'] 추가하기\n",
    "\n",
    "```\n",
    "weather_data = {\n",
    "    'city': 'Seoul',\n",
    "    'temperature': 22.5,  # 섭씨\n",
    "    'humidity': 60,       # 상대 습도(%)\n",
    "    'forecast': ['Sunny', 'Cloudy', 'Rainy']  # 3일 예보\n",
    "}\n",
    "```"
   ]
  },
  {
   "cell_type": "code",
   "execution_count": 21,
   "metadata": {
    "id": "w3-dH_uTfpWc"
   },
   "outputs": [
    {
     "name": "stdout",
     "output_type": "stream",
     "text": [
      "{'city': 'Seoul', 'temperature': 22.5, 'humidity': 60, 'forecast': ['Sunny', 'Cloudy', 'Rainy']}\n"
     ]
    }
   ],
   "source": [
    "weather_data = {\n",
    "    'city': 'Seoul',\n",
    "    'temperature': 22.5,  # 섭씨\n",
    "    'humidity': 60,       # 상대 습도(%)\n",
    "    'forecast': ['Sunny', 'Cloudy', 'Rainy']  # 3일 예보\n",
    "}\n",
    "print(weather_data)"
   ]
  },
  {
   "cell_type": "code",
   "execution_count": 22,
   "metadata": {},
   "outputs": [
    {
     "name": "stdout",
     "output_type": "stream",
     "text": [
      "Seoul\n",
      "{'city': 'Busan', 'temperature': 22.5, 'humidity': 60, 'forecast': ['Sunny', 'Cloudy', 'Rainy']}\n"
     ]
    }
   ],
   "source": [
    "# 'city'키 'Busan'으로 수정하기\n",
    "print(weather_data[\"city\"])\n",
    "weather_data[\"city\"] = \"Busan\"\n",
    "print(weather_data)\n"
   ]
  },
  {
   "cell_type": "code",
   "execution_count": 23,
   "metadata": {},
   "outputs": [
    {
     "name": "stdout",
     "output_type": "stream",
     "text": [
      "{'city': 'Busan', 'temperature': 22.5, 'humidity': 60, 'forecast': ['Sunny', 'Cloudy', 'Rainy'], 'pm10': 34}\n"
     ]
    }
   ],
   "source": [
    "# 미세먼지(`pm10`)키 추가하기 (값: 34)\n",
    "weather_data[\"pm10\"] = 34\n",
    "print(weather_data)"
   ]
  },
  {
   "cell_type": "code",
   "execution_count": null,
   "metadata": {},
   "outputs": [],
   "source": [
    "# 'forecast' 키에 ['Rainy', 'Rainy'] 추가하기\n",
    "# weather_data[\"forecast\"].('Rainy')\n",
    "# weather_data[\"forecast\"].append(['Rainy', 'Rainy'])\n",
    "# print(weather_data)"
   ]
  },
  {
   "cell_type": "code",
   "execution_count": 24,
   "metadata": {},
   "outputs": [
    {
     "name": "stdout",
     "output_type": "stream",
     "text": [
      "['Sunny', 'Cloudy', 'Rainy']\n",
      "['Sunny', 'Cloudy', 'Rainy', ['Rainy', 'Rainy']]\n"
     ]
    }
   ],
   "source": [
    "# 'forecast' 키에 ['Rainy', 'Rainy'] 추가하기\n",
    "weather_data = {\n",
    "    'city': 'Seoul',\n",
    "    'temperature': 22.5,  # 섭씨\n",
    "    'humidity': 60,       # 상대 습도(%)\n",
    "    'forecast': ['Sunny', 'Cloudy', 'Rainy']  # 3일 예보\n",
    "}\n",
    "print(weather_data[\"forecast\"])  # append, extend\n",
    "weather_data[\"forecast\"].append(['Rainy', 'Rainy'])\n",
    "print(weather_data[\"forecast\"])"
   ]
  },
  {
   "cell_type": "code",
   "execution_count": 25,
   "metadata": {},
   "outputs": [
    {
     "name": "stdout",
     "output_type": "stream",
     "text": [
      "['Sunny', 'Cloudy', 'Rainy']\n",
      "['Sunny', 'Cloudy', 'Rainy', 'Rainy', 'Rainy']\n"
     ]
    }
   ],
   "source": [
    "# 'forecast' 키에 ['Rainy', 'Rainy'] 추가하기\n",
    "weather_data = {\n",
    "    'city': 'Seoul',\n",
    "    'temperature': 22.5,  # 섭씨\n",
    "    'humidity': 60,       # 상대 습도(%)\n",
    "    'forecast': ['Sunny', 'Cloudy', 'Rainy']  # 3일 예보\n",
    "}\n",
    "print(weather_data[\"forecast\"])  # append, extend\n",
    "weather_data[\"forecast\"].extend(['Rainy', 'Rainy'])\n",
    "print(weather_data[\"forecast\"])"
   ]
  },
  {
   "cell_type": "markdown",
   "metadata": {
    "id": "T1fOPGfffpWd"
   },
   "source": [
    "### (3) 관련 메서드"
   ]
  },
  {
   "cell_type": "markdown",
   "metadata": {
    "id": "xyFqV-k4fpWd"
   },
   "source": [
    "#### 조회"
   ]
  },
  {
   "cell_type": "code",
   "execution_count": 3,
   "metadata": {},
   "outputs": [],
   "source": [
    "student = {\"name\" : \"홍길동\", \"age\" : 28, \"height\" : 187.3, \"score\" : 88}"
   ]
  },
  {
   "cell_type": "code",
   "execution_count": 8,
   "metadata": {},
   "outputs": [
    {
     "name": "stdout",
     "output_type": "stream",
     "text": [
      "['name', 'age', 'height', 'score']\n",
      "<class 'dict_keys'>\n",
      "['홍길동', 28, 187.3, 88]\n",
      "<class 'dict_values'>\n",
      "dict_items([('name', '홍길동'), ('age', 28), ('height', 187.3), ('score', 88)])\n",
      "<class 'dict_items'>\n"
     ]
    }
   ],
   "source": [
    "# 모든 키 조회\n",
    "print(list(student.keys()))\n",
    "print(type(student.keys()))\n",
    "\n",
    "# 모든 값 조회\n",
    "print(list(student.values()))\n",
    "print(type(student.values()))\n",
    "\n",
    "# (키, 값) 쌍 조회\n",
    "print(student.items())\n",
    "print(type(student.items()))"
   ]
  },
  {
   "cell_type": "code",
   "execution_count": 11,
   "metadata": {},
   "outputs": [
    {
     "name": "stdout",
     "output_type": "stream",
     "text": [
      "홍길동\n",
      "홍길동\n"
     ]
    }
   ],
   "source": [
    "student = {\"name\" : \"홍길동\", \"age\" : 28, \"height\" : 187.3, \"score\" : 88}\n",
    "\n",
    "# name키에 대한 값을 추출해주세요\n",
    "print(student[\"name\"])\n",
    "print(student.get(\"name\"))"
   ]
  },
  {
   "cell_type": "code",
   "execution_count": 14,
   "metadata": {},
   "outputs": [
    {
     "name": "stdout",
     "output_type": "stream",
     "text": [
      "없음\n"
     ]
    }
   ],
   "source": [
    "# weight키에 대한 값을 추출해주세요\n",
    "# print(student[\"weight\"])\n",
    "print(student.get(\"weight\", \"없음\"))"
   ]
  },
  {
   "cell_type": "code",
   "execution_count": 15,
   "metadata": {},
   "outputs": [
    {
     "data": {
      "text/plain": [
       "False"
      ]
     },
     "execution_count": 15,
     "metadata": {},
     "output_type": "execute_result"
    }
   ],
   "source": [
    "\"weight\" in student"
   ]
  },
  {
   "cell_type": "code",
   "execution_count": 16,
   "metadata": {},
   "outputs": [
    {
     "data": {
      "text/plain": [
       "True"
      ]
     },
     "execution_count": 16,
     "metadata": {},
     "output_type": "execute_result"
    }
   ],
   "source": [
    "\"weight\" not in student"
   ]
  },
  {
   "cell_type": "code",
   "execution_count": null,
   "metadata": {},
   "outputs": [
    {
     "name": "stdout",
     "output_type": "stream",
     "text": [
      "{'홍길동': '참석', '김예지': '참석', '김사랑': '참석'}\n"
     ]
    }
   ],
   "source": [
    "# student_list의 학생이 student_dict에 없으면 \"참석\"을 값으로 딕셔너리의 키를 등록하라.\n",
    "\n",
    "student_list = [\"홍길동\", \"김예지\", \"김사랑\"]\n",
    "student_dict = {\"홍길동\" : \"참석\"}\n",
    "\n",
    "for student in student_list:\n",
    "    if student not in student_dict:\n",
    "        student_dict[student] = \"참석\"\n",
    "\n",
    "print(student_dict)\n"
   ]
  },
  {
   "cell_type": "markdown",
   "metadata": {
    "id": "NXLo6tYHfpWd"
   },
   "source": [
    "#### 삭제"
   ]
  },
  {
   "cell_type": "code",
   "execution_count": 18,
   "metadata": {},
   "outputs": [
    {
     "name": "stdout",
     "output_type": "stream",
     "text": [
      "{}\n"
     ]
    }
   ],
   "source": [
    "student_dict = {'홍길동': '참석', '김예지': '참석', '김사랑': '참석'}\n",
    "student_dict.clear()\n",
    "print(student_dict)"
   ]
  },
  {
   "cell_type": "markdown",
   "metadata": {
    "id": "l8y7gZ80fpWd"
   },
   "source": [
    "## 6) 집합"
   ]
  },
  {
   "cell_type": "markdown",
   "metadata": {
    "id": "NsSD5UjdfpWd"
   },
   "source": [
    "### (1) 표현"
   ]
  },
  {
   "cell_type": "code",
   "execution_count": 19,
   "metadata": {},
   "outputs": [
    {
     "name": "stdout",
     "output_type": "stream",
     "text": [
      "set()\n",
      "<class 'set'>\n"
     ]
    }
   ],
   "source": [
    "set_list = []\n",
    "myset = set(set_list)\n",
    "\n",
    "print(myset)\n",
    "print(type(myset))"
   ]
  },
  {
   "cell_type": "code",
   "execution_count": null,
   "metadata": {},
   "outputs": [
    {
     "name": "stdout",
     "output_type": "stream",
     "text": [
      "{1, 3, 5, 7, 9}\n",
      "<class 'set'>\n"
     ]
    }
   ],
   "source": [
    "# 중복제거\n",
    "set_list = [1,1,3,5,7,5,9,3,3]\n",
    "myset = set(set_list)\n",
    "\n",
    "print(myset)\n",
    "print(type(myset))"
   ]
  },
  {
   "cell_type": "markdown",
   "metadata": {
    "id": "zJqGcyIbfpWd"
   },
   "source": [
    "예제. 이메일 중복 제거\n",
    "\n",
    "```\n",
    "emails = ['user1@example.com','user2@example.com','user1@example.com','user3@example.com','user2@example.com']\n",
    "```"
   ]
  },
  {
   "cell_type": "code",
   "execution_count": 24,
   "metadata": {
    "id": "lmsklubGfpWd"
   },
   "outputs": [
    {
     "name": "stdout",
     "output_type": "stream",
     "text": [
      "{'user1@example.com', 'user2@example.com', 'user3@example.com'}\n"
     ]
    }
   ],
   "source": [
    "emails = ['user1@example.com','user2@example.com','user1@example.com','user3@example.com','user2@example.com']\n",
    "print(set(emails))"
   ]
  },
  {
   "cell_type": "code",
   "execution_count": 25,
   "metadata": {},
   "outputs": [
    {
     "ename": "TypeError",
     "evalue": "'set' object is not subscriptable",
     "output_type": "error",
     "traceback": [
      "\u001b[1;31m---------------------------------------------------------------------------\u001b[0m",
      "\u001b[1;31mTypeError\u001b[0m                                 Traceback (most recent call last)",
      "Cell \u001b[1;32mIn[25], line 2\u001b[0m\n\u001b[0;32m      1\u001b[0m email_set \u001b[38;5;241m=\u001b[39m \u001b[38;5;28mset\u001b[39m(emails)\n\u001b[1;32m----> 2\u001b[0m \u001b[38;5;28mprint\u001b[39m(\u001b[43memail_set\u001b[49m\u001b[43m[\u001b[49m\u001b[38;5;241;43m0\u001b[39;49m\u001b[43m]\u001b[49m)\n",
      "\u001b[1;31mTypeError\u001b[0m: 'set' object is not subscriptable"
     ]
    }
   ],
   "source": [
    "email_set = set(emails)\n",
    "print(email_set[0])"
   ]
  },
  {
   "cell_type": "markdown",
   "metadata": {
    "id": "u3-4s3VbfpWe"
   },
   "source": [
    "### (2) 요소 추가/제거"
   ]
  },
  {
   "cell_type": "markdown",
   "metadata": {
    "id": "-IE7WahqfpWe"
   },
   "source": [
    "#### 추가"
   ]
  },
  {
   "cell_type": "code",
   "execution_count": 1,
   "metadata": {
    "id": "ijOunSBsfzf-"
   },
   "outputs": [
    {
     "name": "stdout",
     "output_type": "stream",
     "text": [
      "{1, 2, 3, 4, 5}\n",
      "{1, 2, 3, 4, 5, 6}\n",
      "{1, 2, 3, 4, 5, 6}\n"
     ]
    }
   ],
   "source": [
    "myset = {1, 2, 3, 4, 5}\n",
    "print(myset)\n",
    "\n",
    "# 6을 추가하기\n",
    "myset.add(6)\n",
    "print(myset)\n",
    "\n",
    "# 5 추가하기\n",
    "myset.add(5)\n",
    "print(myset)"
   ]
  },
  {
   "cell_type": "code",
   "execution_count": 2,
   "metadata": {},
   "outputs": [
    {
     "name": "stdout",
     "output_type": "stream",
     "text": [
      "{1, 2, 3, 4, 5, 6, 7, 8}\n"
     ]
    }
   ],
   "source": [
    "# 4, 7, 8 추가하기\n",
    "myset.update([4, 7, 8])\n",
    "print(myset)"
   ]
  },
  {
   "cell_type": "markdown",
   "metadata": {
    "id": "inOzgS8ofpWe"
   },
   "source": [
    "#### 제거"
   ]
  },
  {
   "cell_type": "code",
   "execution_count": null,
   "metadata": {},
   "outputs": [
    {
     "name": "stdout",
     "output_type": "stream",
     "text": [
      "{1, 2, 3, 4, 6, 7, 8}\n"
     ]
    },
    {
     "ename": "KeyError",
     "evalue": "9",
     "output_type": "error",
     "traceback": [
      "\u001b[1;31m---------------------------------------------------------------------------\u001b[0m",
      "\u001b[1;31mKeyError\u001b[0m                                  Traceback (most recent call last)",
      "Cell \u001b[1;32mIn[3], line 7\u001b[0m\n\u001b[0;32m      4\u001b[0m \u001b[38;5;28mprint\u001b[39m(myset)\n\u001b[0;32m      6\u001b[0m \u001b[38;5;66;03m# 9 제거하기\u001b[39;00m\n\u001b[1;32m----> 7\u001b[0m \u001b[43mmyset\u001b[49m\u001b[38;5;241;43m.\u001b[39;49m\u001b[43mremove\u001b[49m\u001b[43m(\u001b[49m\u001b[38;5;241;43m9\u001b[39;49m\u001b[43m)\u001b[49m\n\u001b[0;32m      8\u001b[0m \u001b[38;5;28mprint\u001b[39m(myset)\n",
      "\u001b[1;31mKeyError\u001b[0m: 9"
     ]
    }
   ],
   "source": [
    "# remove, discard\n",
    "# remove\n",
    "# 5 제거하기\n",
    "myset.remove(5)\n",
    "print(myset)\n",
    "\n",
    "# 9 제거하기\n",
    "myset.remove(9)\n",
    "print(myset)"
   ]
  },
  {
   "cell_type": "code",
   "execution_count": null,
   "metadata": {},
   "outputs": [
    {
     "name": "stdout",
     "output_type": "stream",
     "text": [
      "{1, 2, 3, 4, 6, 7, 8}\n",
      "{1, 2, 3, 4, 6, 7, 8}\n"
     ]
    }
   ],
   "source": [
    "# discard\n",
    "myset = {1, 2, 3, 4, 5}\n",
    "\n",
    "# 5 제거하기\n",
    "myset.discard(5)\n",
    "print(myset)\n",
    "\n",
    "# 9 제거하기\n",
    "myset.discard(9)\n",
    "print(myset)"
   ]
  },
  {
   "cell_type": "markdown",
   "metadata": {
    "id": "N7sDYPgkfpWe"
   },
   "source": [
    "### (3) 연산"
   ]
  },
  {
   "cell_type": "markdown",
   "metadata": {},
   "source": [
    "<img src='https://www.dropbox.com/scl/fi/o9jjkizgbclwemi9wot4h/.png?rlkey=35o0zu24jc99ggiv9ex3pukqf&st=f69cko7q&dl=1' width=30%>"
   ]
  },
  {
   "cell_type": "code",
   "execution_count": 12,
   "metadata": {},
   "outputs": [
    {
     "name": "stdout",
     "output_type": "stream",
     "text": [
      "{'F', 'G', 'H', 'A', 'B', 'D', 'C'}\n",
      "{'F', 'G', 'H', 'A', 'B', 'D', 'C'}\n",
      "{'A', 'F'}\n",
      "{'A', 'F'}\n",
      "{'D', 'C', 'G'}\n",
      "{'B', 'H'}\n"
     ]
    }
   ],
   "source": [
    "set1 = {\"A\", \"C\", \"D\", \"F\", \"G\"}\n",
    "set2 = {\"A\", \"B\", \"F\", \"H\"}\n",
    "\n",
    "# 합집합(요가 또는 헬스 / 요가 or 헬스)\n",
    "set_union1 = set1 | set2\n",
    "print(set_union1)\n",
    "set_union2 = set1.union(set2)\n",
    "print(set_union2)\n",
    "\n",
    "# 교집합(요가 그리고 헬스 / 요가 and 헬스)\n",
    "set_inter1 = set1 & set2\n",
    "print(set_inter1)\n",
    "set_inter2 = set1.intersection(set2)\n",
    "print(set_inter2)\n",
    "\n",
    "# 차집합(요가만 다니는 사람)\n",
    "set_diff1 = set1 - set2\n",
    "print(set_diff1)\n",
    "\n",
    "# 차집합(헬스만 다니는 사람)\n",
    "set_diff2 = set2 - set1\n",
    "print(set_diff2)"
   ]
  },
  {
   "cell_type": "markdown",
   "metadata": {
    "id": "WCXq_UaJfpWe"
   },
   "source": [
    "## 7) 불"
   ]
  },
  {
   "cell_type": "code",
   "execution_count": 34,
   "metadata": {},
   "outputs": [],
   "source": [
    "switch = True\n",
    "login = False\n"
   ]
  },
  {
   "cell_type": "code",
   "execution_count": 15,
   "metadata": {},
   "outputs": [
    {
     "name": "stdout",
     "output_type": "stream",
     "text": [
      "환영합니다\n"
     ]
    }
   ],
   "source": [
    "login = True\n",
    "if login == True :\n",
    "    print(\"환영합니다\")"
   ]
  },
  {
   "cell_type": "code",
   "execution_count": 17,
   "metadata": {},
   "outputs": [
    {
     "name": "stdout",
     "output_type": "stream",
     "text": [
      "'H'는 오늘 출근하지 않았습니다.\n"
     ]
    }
   ],
   "source": [
    "visitors = [\"A\", \"C\", \"G\"]\n",
    "if \"H\" not in visitors :\n",
    "    print(\"'H'는 오늘 출근하지 않았습니다.\")"
   ]
  },
  {
   "cell_type": "markdown",
   "metadata": {},
   "source": [
    "* append / extend 차이 알기"
   ]
  },
  {
   "cell_type": "code",
   "execution_count": 31,
   "metadata": {},
   "outputs": [
    {
     "name": "stdout",
     "output_type": "stream",
     "text": [
      "[['#헬스', '#단백질'], ['#닭가슴살', '#다이어트', '#단백질'], ['#요요', '#헬스', '#다이어트'], ['#닭가슴살', '#단백질']]\n"
     ]
    }
   ],
   "source": [
    "post1 = [\"#헬스\", \"#단백질\"]\n",
    "post2 = [\"#닭가슴살\", \"#다이어트\", \"#단백질\"]\n",
    "post3 = [\"#요요\", \"#헬스\", \"#다이어트\"]\n",
    "post4 = [\"#닭가슴살\", \"#단백질\"]\n",
    "\n",
    "posts = [post1, post2, post3, post4]\n",
    "\n",
    "# 문제 1. 인스타그램 포스트별로 데이터를 수집하고 싶다\n",
    "tags = []\n",
    "for post in posts:\n",
    "    tags.append(post)\n",
    "\n",
    "print(tags)"
   ]
  },
  {
   "cell_type": "code",
   "execution_count": 32,
   "metadata": {},
   "outputs": [
    {
     "name": "stdout",
     "output_type": "stream",
     "text": [
      "['#헬스', '#단백질', '#닭가슴살', '#다이어트', '#단백질', '#요요', '#헬스', '#다이어트', '#닭가슴살', '#단백질']\n"
     ]
    }
   ],
   "source": [
    "# 문제 2. 모든 해시태그들을 tags라는 변수에 담고 싶다\n",
    "tags = []\n",
    "for post in posts:\n",
    "    tags.extend(post)\n",
    "\n",
    "print(tags)"
   ]
  },
  {
   "cell_type": "code",
   "execution_count": 33,
   "metadata": {},
   "outputs": [
    {
     "name": "stdout",
     "output_type": "stream",
     "text": [
      "{'#요요', '#닭가슴살', '#다이어트', '#단백질', '#헬스'}\n"
     ]
    }
   ],
   "source": [
    "# 문제 3. 해시태그 카테고리가 몇 개인지 알고 싶다\n",
    "result = set(tags)\n",
    "print(result)"
   ]
  }
 ],
 "metadata": {
  "colab": {
   "provenance": []
  },
  "kernelspec": {
   "display_name": "YOON",
   "language": "python",
   "name": "python3"
  },
  "language_info": {
   "codemirror_mode": {
    "name": "ipython",
    "version": 3
   },
   "file_extension": ".py",
   "mimetype": "text/x-python",
   "name": "python",
   "nbconvert_exporter": "python",
   "pygments_lexer": "ipython3",
   "version": "3.10.18"
  }
 },
 "nbformat": 4,
 "nbformat_minor": 0
}
