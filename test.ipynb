{
 "cells": [
  {
   "cell_type": "code",
   "execution_count": 1,
   "id": "b8d44927",
   "metadata": {},
   "outputs": [
    {
     "name": "stdout",
     "output_type": "stream",
     "text": [
      "hello\n"
     ]
    }
   ],
   "source": [
    "print(\"hello\")"
   ]
  },
  {
   "cell_type": "markdown",
   "id": "6deb85a2",
   "metadata": {},
   "source": [
    "# 섹션 1\n",
    "\n",
    "## 섹션 1-1\n",
    "\n",
    "제 이름은 **홍길동**입니다.\n",
    "\n",
    "* 목록1\n",
    "* 목록2\n",
    "* 목록3\n",
    "\n",
    "html 코드도 여기 먹힘!!!\n",
    "\n",
    "cntl + enter 누르면 됨!"
   ]
  },
  {
   "cell_type": "markdown",
   "id": "167673fa",
   "metadata": {},
   "source": [
    "# 2025-07-09\n",
    "\n",
    "*파이썬의 기초*\n",
    "\n",
    "> 인용구 표현"
   ]
  },
  {
   "cell_type": "code",
   "execution_count": 9,
   "id": "fc11d3f3",
   "metadata": {},
   "outputs": [
    {
     "name": "stdout",
     "output_type": "stream",
     "text": [
      "firstsecond\n"
     ]
    }
   ],
   "source": [
    "print(\"first\", end=\"\");print(\"second\")"
   ]
  },
  {
   "cell_type": "code",
   "execution_count": null,
   "id": "88886e74",
   "metadata": {},
   "outputs": [
    {
     "name": "stdout",
     "output_type": "stream",
     "text": [
      "2210\n",
      "2210\n"
     ]
    }
   ],
   "source": [
    "string = \"홀짝홀짝홀짝\"\n",
    "print(string[:])"
   ]
  },
  {
   "cell_type": "code",
   "execution_count": 32,
   "id": "6327854c",
   "metadata": {},
   "outputs": [
    {
     "name": "stdout",
     "output_type": "stream",
     "text": [
      "p t\n"
     ]
    }
   ],
   "source": [
    "letters = 'python'\n",
    "print(letters[:1], letters[2:3])"
   ]
  }
 ],
 "metadata": {
  "kernelspec": {
   "display_name": "YOON",
   "language": "python",
   "name": "python3"
  },
  "language_info": {
   "codemirror_mode": {
    "name": "ipython",
    "version": 3
   },
   "file_extension": ".py",
   "mimetype": "text/x-python",
   "name": "python",
   "nbconvert_exporter": "python",
   "pygments_lexer": "ipython3",
   "version": "3.10.18"
  }
 },
 "nbformat": 4,
 "nbformat_minor": 5
}
